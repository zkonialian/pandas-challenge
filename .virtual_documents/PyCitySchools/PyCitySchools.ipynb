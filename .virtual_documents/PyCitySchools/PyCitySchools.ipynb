


# Dependencies and Setup
import pandas as pd
from pathlib import Path


# File to Load (Remember to Change These)
SCHOOL_DATA_PATH = Path("Resources/schools_complete.csv")
STUDENT_DATA_PATH = Path("Resources/students_complete.csv")
MIN_PASSING_SCORE = 70


# Read School and Student Data File and store into Pandas DataFrames
school_data_df = pd.read_csv(SCHOOL_DATA_PATH)
print(school_data_df.shape)
school_data_df.head(3)


student_data_df = pd.read_csv(STUDENT_DATA_PATH)
print(student_data_df.shape)
student_data_df.head(3)


# Combine the data into a single dataset.
school_data_complete_df = pd.merge(student_data_df, school_data_df, how="left", on=["school_name", "school_name"])
print(school_data_complete_df.shape)
school_data_complete_df.head()





# Calculate the total number of unique schools
school_count = school_data_complete_df["School ID"].nunique() 
school_count


# Calculate the total number of students
student_count = school_data_complete_df["Student ID"].count() 
student_count



# Calculate the total budget
total_budget = school_data_complete_df.groupby(['School ID']).max()["budget"].sum()
total_budget



# Calculate the average (mean) math score
average_math_score = school_data_complete_df["math_score"].mean()
average_math_score



# Calculate the average (mean) reading score
average_reading_score = school_data_complete_df["reading_score"].mean()
average_reading_score



# Use the following to calculate the percentage of students who passed math (math scores greather than or equal to 70)
passing_math_count = school_data_complete_df[(school_data_complete_df["math_score"] >= 70)].count()["student_name"]
passing_math_percentage = passing_math_count / float(student_count) * 100
passing_math_percentage



passing_math_mask_series= school_data_complete_df["math_score"] >= MIN_PASSING_SCORE
passing_math_mask_series


passing_math_count= school_data_complete_df[passing_math_mask_series].count()["Student ID"]
passing_math_percentage = (passing_math_count / float(student_count)) * 100
passing_math_percentage


# Calculate the percentage of students who passed reading (hint: look at how the math percentage was calculated)
passing_reading_mask_series= school_data_complete_df["reading_score"] >= MIN_PASSING_SCORE
passing_reading_count= school_data_complete_df[passing_reading_mask_series].count()["Student ID"]
passing_reading_percentage = (passing_reading_count / float(student_count)) * 100
passing_reading_percentage


# Use the following to calculate the percentage of students that passed math and reading
passing_math_reading_count = school_data_complete_df[passing_math_mask_series & passing_reading_mask_series].count()["student_name"]
overall_passing_rate = passing_math_reading_count /  float(student_count) * 100
overall_passing_rate



district_summary_data={
    "Total Schools": school_count,
    "Total Students":student_count,	
    "Total Budget": total_budget,	
    "Average Math Score":average_math_score,	
    "Average Reading Score":average_reading_score,	
    "% Passing Math":passing_math_percentage,	
    "% Passing Reading":passing_reading_percentage,	
    "% Overall Passing":overall_passing_rate,
}
district_summary_data


# Create a high-level snapshot of the district's key metrics in a DataFrame
district_summary = pd.DataFrame(district_summary_data, index=[0])

# Formatting
district_summary["Total Students"] = district_summary["Total Students"].map("{:,}".format)
district_summary["Total Budget"] = district_summary["Total Budget"].map("${:,.2f}".format)

# Display the DataFrame
district_summary






# Use the code provided to select the type per school from school_data
per_school_types = school_data_df.set_index(["school_name"])["type"] 
per_school_types


# Calculate the total student count per school from school_data
per_school_counts = school_data_df.set_index(["school_name"])["size"] 
per_school_counts


# Calculate the total school budget and per capita spending per school from school_data
per_school_budget = school_data_df.set_index(["school_name"])["budget"] 
per_school_budget



per_school_capita = per_school_budget / per_school_counts
per_school_capita


# Calculate the average test scores per school from school_data_complete
per_school_math = school_data_complete_df.groupby("school_name").mean(numeric_only=True)["math_score"]
per_school_math


per_school_reading = school_data_complete_df.groupby("school_name").mean(numeric_only=True)["reading_score"]
per_school_reading


# Calculate the number of students per school with math scores of 70 or higher from school_data_complete
per_school_students_passing_math_count = school_data_complete_df[passing_math_mask_series].groupby("school_name").count()["Student ID"]
per_school_students_passing_math_count



# Calculate the number of students per school with reading scores of 70 or higher from school_data_complete
per_school_students_passing_reading_count = school_data_complete_df[passing_reading_mask_series].groupby("school_name").count()["Student ID"]
per_school_students_passing_reading_count



# Use the provided code to calculate the number of students per school that passed both math and reading with scores of 70 or higher
students_passing_math_and_reading_df = school_data_complete_df[passing_math_mask_series & passing_reading_mask_series]
per_school_students_passing_math_and_reading_count = students_passing_math_and_reading_df.groupby(["school_name"]).size()
per_school_students_passing_math_and_reading_count


# Use the provided code to calculate the passing rates
per_school_passing_math_pct = per_school_students_passing_math_count / per_school_counts * 100
per_school_passing_reading_pct = per_school_students_passing_reading_count / per_school_counts * 100
per_school_overall_passing_pct = per_school_students_passing_math_and_reading_count / per_school_counts * 100

print(per_school_passing_math_pct.head(3), per_school_passing_reading_pct.head(3), per_school_overall_passing_pct.head(3))


per_school_data={
    "School Type": per_school_types,
    "Total Students": per_school_counts,	
    "Total School Budget": per_school_budget,	
    "Per Student Budget": per_school_capita,	
    "Average Math Score": per_school_math,	
    "Average Reading Score": per_school_reading,	
    "% Passing Math":per_school_passing_math_pct,	
    "% Passing Reading":per_school_passing_reading_pct,
    "% Overall Passing":per_school_overall_passing_pct,
}
per_school_data


# Create a DataFrame called `per_school_summary` with columns for the calculations above.
per_school_summary_df = pd.DataFrame(per_school_data)

# Formatting
per_school_summary_df["Total School Budget"] = per_school_summary_df["Total School Budget"].map("${:,.2f}".format)
per_school_summary_df["Per Student Budget"] = per_school_summary_df["Per Student Budget"].map("${:,.2f}".format)

# Display the DataFrame
per_school_summary_df






# Sort the schools by `% Overall Passing` in descending order and display the top 5 rows.
top_schools = per_school_summary_df.sort_values("% Overall Passing", ascending=False)
top_schools.head(5)






# Sort the schools by `% Overall Passing` in ascending order and display the top 5 rows.
bottom_schools = per_school_summary_df.sort_values("% Overall Passing")
bottom_schools.head(5)






# Use the code provided to separate the data by grade
ninth_graders = school_data_complete_df[(school_data_complete_df["grade"] == "9th")]
tenth_graders = school_data_complete_df[(school_data_complete_df["grade"] == "10th")]
eleventh_graders = school_data_complete_df[(school_data_complete_df["grade"] == "11th")]
twelfth_graders = school_data_complete_df[(school_data_complete_df["grade"] == "12th")]

# Group by `school_name` and take the mean of the `math_score` column for each.
ninth_grade_math_scores = ninth_graders.groupby("school_name")["math_score"].mean()
tenth_grade_math_scores = tenth_graders.groupby("school_name")["math_score"].mean()
eleventh_grade_math_scores = eleventh_graders.groupby("school_name")["math_score"].mean()
twelfth_grade_math_scores = twelfth_graders.groupby("school_name")["math_score"].mean()


# Combine each of the scores above into single DataFrame called `math_scores_by_grade`
math_scores_by_grade = pd.DataFrame({
    "9th Grade": ninth_grade_math_scores,
    "10th Grade": tenth_grade_math_scores,
    "11th Grade": eleventh_grade_math_scores,
    "12th Grade": twelfth_grade_math_scores
})


# Minor data wrangling
math_scores_by_grade.index.name = None
math_scores_by_grade





# Use the code provided to separate the data by grade
ninth_graders = school_data_complete_df[(school_data_complete_df["grade"] == "9th")]
tenth_graders = school_data_complete_df[(school_data_complete_df["grade"] == "10th")]
eleventh_graders = school_data_complete_df[(school_data_complete_df["grade"] == "11th")]
twelfth_graders = school_data_complete_df[(school_data_complete_df["grade"] == "12th")]

# Group by `school_name` and take the mean of the the `reading_score` column for each.
ninth_grade_reading_scores = ninth_graders.groupby("school_name")["reading_score"].mean()
tenth_grade_reading_scores = tenth_graders.groupby("school_name")["reading_score"].mean()
eleventh_grade_reading_scores = eleventh_graders.groupby("school_name")["reading_score"].mean()
twelfth_grade_reading_scores = twelfth_graders.groupby("school_name")["reading_score"].mean()

# Combine each of the scores above into single DataFrame called `reading_scores_by_grade`
reading_scores_by_grade = pd.DataFrame({
    "9th Grade": ninth_grade_reading_scores,
    "10th Grade": tenth_grade_reading_scores,
    "11th Grade": eleventh_grade_reading_scores,
    "12th Grade": twelfth_grade_reading_scores
})

# Minor data wrangling
reading_scores_by_grade.index.name = None

# Display the DataFrame
reading_scores_by_grade






# Establish the bins
spending_bins = [0, 585, 630, 645, 680]
labels = ["<$585", "$585-630", "$630-645", "$645-680"]



# Create a copy of the school summary since it has the "Per Student Budget"
school_spending_df = per_school_summary_df.copy()
school_spending_df


# Use `pd.cut` to categorize spending based on the bins.
school_spending_df["Spending Ranges (Per Student)"] = pd.cut(per_school_capita, bins=spending_bins, labels=labels)
school_spending_df



#  Calculate averages for the desired columns.
spending_math_scores = school_spending_df.groupby(["Spending Ranges (Per Student)"])["Average Math Score"].mean()
spending_reading_scores = school_spending_df.groupby(["Spending Ranges (Per Student)"])["Average Reading Score"].mean()
spending_passing_math = school_spending_df.groupby(["Spending Ranges (Per Student)"])["% Passing Math"].mean()
spending_passing_reading = school_spending_df.groupby(["Spending Ranges (Per Student)"])["% Passing Reading"].mean()
overall_passing_spending = school_spending_df.groupby(["Spending Ranges (Per Student)"])["% Overall Passing"].mean()



# Assemble into DataFrame
spending_summary = pd.DataFrame({
    "Average Math Score": spending_math_scores,
    "Average Reading Score": spending_reading_scores,
    "% Passing Math": spending_passing_math,
    "% Passing Reading": spending_passing_reading,
    "% Overall Passing": overall_passing_spending
})

# Display results
spending_summary






# Establish the bins.
size_bins = [0, 1000, 2000, 5000]
labels = ["Small (<1000)", "Medium (1000-2000)", "Large (2000-5000)"]



# Categorize the spending based on the bins
# Use `pd.cut` on the "Total Students" column of the `per_school_summary` DataFrame.

per_school_summary_df["School Size"] = pd.cut(per_school_summary_df["Total Students"], bins=size_bins, labels=labels)
per_school_summary_df



# Calculate averages for the desired columns.
size_math_scores = per_school_summary_df.groupby(["School Size"])["Average Math Score"].mean()
size_reading_scores = per_school_summary_df.groupby(["School Size"])["Average Reading Score"].mean()
size_passing_math = per_school_summary_df.groupby(["School Size"])["% Passing Math"].mean()
size_passing_reading = per_school_summary_df.groupby(["School Size"])["% Passing Reading"].mean()
size_overall_passing = per_school_summary_df.groupby(["School Size"])["% Overall Passing"].mean()



# Create a DataFrame called `size_summary` that breaks down school performance based on school size (small, medium, or large).
# Use the scores above to create a new DataFrame called `size_summary`
size_summary = pd.DataFrame({
    "Average Math Score": size_math_scores,
    "Average Reading Score": size_reading_scores,
    "% Passing Math": size_passing_math,
    "% Passing Reading": size_passing_reading,
    "% Overall Passing": size_overall_passing
})

# Display results
size_summary






# Group the per_school_summary DataFrame by "School Type" and average the results.
average_math_score_by_type = per_school_summary_df.groupby(["School Type"])["Average Math Score"].mean()
average_reading_score_by_type = per_school_summary_df.groupby(["School Type"])["Average Reading Score"].mean()
average_percent_passing_math_by_type = per_school_summary_df.groupby(["School Type"])["% Passing Math"].mean()
average_percent_passing_reading_by_type = per_school_summary_df.groupby(["School Type"])["% Passing Reading"].mean()
average_percent_overall_passing_by_type = per_school_summary_df.groupby(["School Type"])["% Overall Passing"].mean()



# Assemble the new data by type into a DataFrame called `type_summary`
type_summary = pd.DataFrame({
    "Average Math Score": average_math_score_by_type,
    "Average Reading Score": average_reading_score_by_type,
    "% Passing Math": average_percent_passing_math_by_type,
    "% Passing Reading": average_percent_passing_reading_by_type,
    "% Overall Passing": average_percent_overall_passing_by_type
})

# Display results
type_summary




